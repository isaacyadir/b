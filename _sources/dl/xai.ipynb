{
 "cells": [
  {
   "cell_type": "markdown",
   "metadata": {},
   "source": [
    "# Interpretability in Deep Learning\n",
    "Interpretability, part of the broader topic of explainable AI (XAI), is the process of adding explanations to deep learning model predictions. These explanations should help us understand why particular predictions are made. This is a critical topic because being able to understand model predictions is justified from a practical, theoretical, and increasingly a regulatory stand-point. It is practical because it has been shown that people are more likely to use predictions of a model if they can understand the rationale {cite}`lee2004trust`. Another practical concern is that correctly implementing methods is much easier when one can understand how a model arrived at a prediction. A theoretical justification for transparency is that it can help identify incompleteness in model domains (i.e., covariate shift){cite}`doshi2017towards`. It is now becoming a compliance problem because both the European Union {cite}`goodman2017european` and the G20 {cite}`Development2019` have recently adopted guidelines that recommend or require explanations for machine predictions. The European Union is considering going further with more [strict draft legislation](https://digital-strategy.ec.europa.eu/en/library/proposal-regulation-laying-down-harmonised-rules-artificial-intelligence-artificial-intelligence) being considered. \n",
    "\n",
    "A famous example on the need for explainable AI is found in Caruana et al.{cite}`caruana2015intelligible` who built an ML predictor to assess mortality risk of patients in the ER with pneumonia. The idea is that patients with pneumonia are screened with this tool and it helps doctors know which patients are more at risk of dying. It was found to be quite accurate. When the interpretation of its predictions were examined though, the reasoning was medically insane. The model surprisingly suggested patients with asthma (called asthmatics) have a reduced mortality risk when coming to the ER with pneumonia. Asthma, a condition which makes it difficult to breathe, was found to *make pneumonia patients less likely to die.* This was incidental; asthmatics are actually more at risk of dying from pneumonia but doctors are acutely aware of this and are thus more aggressive and attentive with them. Thanks to the increase care and attention from doctors, there are fewer mortalities. From an empirical standpoint, the model predictions are correct. However if the model were put into practice, it could have cost lives by incorrectly characterizing asthmatics as low mortality risk. Luckily the interpretability of their model helped researchers identify this problem. Thus, we can see that interpretation should always be a step in the construction of predictive models. \n",
    "\n",
    "Deep learning alone is a black box modeling technique. Examining the weights or model equation provides little insight into why predictions are made. Thus, interpretability is an extra task. This is challenge because of both the black box nature of deep learning and because there is no consensus on what exactly constitutes an \"explanation\" for model predictions. {cite}`doshi2017towards`. For some, interpretability means having a natural language explanation justifying a prediction. For others, it can be simply showing which features contributed most to the prediction. \n",
    "\n",
    "There are two broad approaches to interpretation of ML models: post hoc interpretation and self-explaining models {cite}`Murdoch2019`. Self-explaining models are constructed so that an expert can view output of the model and connect it with the features through reasoning. Self-explaining models are highly dependent on the task model{cite}`montavon2018methods`. A familiar example would be a physics based simulation like molecular dynamics or a single-point quantum energy calculation. You can examine the molecular dynamics trajectory, look at output numbers, and an expert can explain why, for example, the simulation predicts a drug molecule will bind to a protein. It may seem like this would be useless for deep learning interpretation. However, we can create a **proxy model** (sometimes **surrogate model**) that is self-explaining and train it to agree with the deep learning model. Why will this training burden be any less than just using the proxy model from the beginning? We can generate an infinite amount of training data because our trained neural network can label arbitrary points. You can also construct deep learning models which have self-explaining features in them, like attention {cite}`bahdanau2014neural`. This allows you to connect the input features to the prediction based on attention. \n",
    "\n",
    "Post hoc interpretation can be approached in a number of ways, but the most common are training data importance, feature importance, and counterfactual explanations{cite}`ribeiro2016should,ribeiro2016model,wachter2017counterfactual`. An example of a post hoc interpretation based on data importance is identifying the most influential training data to explain a prediction {cite}`koh2017understanding`. It is perhaps arguable if this gives an *explanation*, but it certainly helps understand which data is relevant for a prediction. Feature importance are probably the most common XAI approach and frequently appear in computer vision research where the pixels most important for the class of an image are highlighted. Finally, counterfactual explanations are an emerging approach where a new data point is generated (in same distribution as training data features) that serves as a counterfactual. A counterfactual gives insight into how important and sensitive the features are. An example might be in a model that recommends giving a loan. A model could produce the following counterfactual explanation (from {cite}`wachter2017counterfactual`):\n",
    "\n",
    "> You were denied a loan based on your annual income, zip code, and assets. If \n",
    "> your annual income had been $45,000, you would have been offered a loan.\n",
    "\n",
    "The second sentence is the conuterfactual and shows how the features could be changed to affect the model outcome. Coutnerfactuals provide a nice balance of complexity and explanatory power.\n",
    "\n",
    "This was a brief overview of interpretable deep learning. You can find a recent review of interpretable deep learning in Samek et al. {cite}`9369420` and Christopher Molnar has a [broad online book](https://christophm.github.io/interpretable-ml-book/) about interpretable machine learning, including deep learning {cite}`molnar2019`. Prediction error and confidence in predictions is not covered here, but see the methods from {doc}`../ml/regression` which apply. "
   ]
  },
  {
   "cell_type": "markdown",
   "metadata": {},
   "source": [
    "## Feature Importance\n",
    "\n",
    "Feature importance is the most straightforward and common method of interpreting a machine learning model. The output of feature importance is a ranking or numerical values for each feature, typically for a single prediction. If you are trying to understand the feature importance across the whole model, this is called **global** feature importance and **local** for a single prediction. Global feature importance and global interpretability is relatively rare because the best models change which features are important in different regions of feature space.\n",
    "\n",
    "Let's start with a linear model to see feature importance:\n",
    "\n",
    "\\begin{equation}\n",
    "\\hat{y} = \\vec{w}\\vec{x} + b \n",
    "\\end{equation}\n",
    "\n",
    "where $\\vec{x}$ is our feature vector. A simple way to assess feature importance is to simply look at the weight value $w_i$ for a particular feature $x_i$. The weight $w_i$ shows how much $\\hat{y}$ would change if $x_i$ is increased by 1 while all other features are constant. If the magnitude of our features are comparable, then this would be a reasonable way to rank features. However, if our features have units, this approach is sensitive to unit choices and relative magnitude of features. For example if our temperature was changed from Celsius to Fahrenheit, a 1 degree increase will have a smaller effect. \n",
    "\n",
    "To remove the effect of feature magnitude and units, a slightly better way to assess feature importance is to divide $w_i$ by the **standard error**  in the feature values. Recall that standard error is just the ratio of sum of squared error in predicted value divided by the total deviation in the feature. Standard error is a ratio of prediction accuracy to feature variance -- and the prediction accuracy is indepdenent of the feature and thus has no effect for ranking feature importance. $w_i$ divided by standard error is called the $t$-statistic because it can be compared with the $t$-distribution for assessing feature importance.\n",
    "\n",
    "\\begin{equation}\n",
    "t_i = \\frac{w_i}{S_{w_i}},\\; S^2_{w_i} = \\frac{1}{N - D}\\sum_j \\frac{\\left(\\hat{y}_j - y_j\\right)^2}{\\left(x_{ij} - \\bar{x}_i\\right)^2}\n",
    "\\end{equation}\n",
    "\n",
    "where $N$ is the number of examples,  $D$ is the number of features, and $\\bar{x}_i$ is the average value of the $i$th feature. The $t_i$ value can be used to rank features and it can be used for a hypothesis test: if $t_i > 0.05$ then that feature is significant. Note that a feature's significance is sensitive to which features are present in a model; if you add features some may become redundant.\n",
    "\n",
    "If we move to a non-linear learned function $\\hat{f}(\\vec{x})$, we must compute how the prediction changes if a feature value increases by 1 via the derivative approximation:\n",
    "\n",
    "$$\n",
    "\\frac{\\Delta \\hat{f}(\\vec{x})}{\\Delta x_i} \\approx \\frac{\\partial  \\hat{f}(\\vec{x})}{\\partial x_i}\n",
    "$$\n",
    "\n",
    "so a change by 1 is\n",
    "\n",
    "\\begin{equation}\n",
    "\\Delta \\hat{f}(\\vec{x}) \\approx \\frac{\\partial  \\hat{f}(\\vec{x})}{\\partial x_i}.\n",
    "\\end{equation}\n",
    "\n",
    "\n",
    "In practice, we make a slight variation on this equation -- instead of a Taylor series centered at 0 approximating this change, we center at some other root (point where the function is 0). This \"grounds\" the series at the decision boundary (a root) and then you can view the partials as \"pushing\" the predicted class away or towards the decision boundary. Another way to think about this is that we use the first-order terms of the Taylor series to build a linear model. Then we just apply what we did above to that linear model and use the coefficients as the \"importance\" of features. Specifically, we use this surrogate function for $\\hat{f}(\\vec{x})$:\n",
    "\n",
    "\\begin{equation}\n",
    "\\require{cancel}\n",
    "\\hat{f}(\\vec{x}) \\approx \\cancelto{0}{f(\\vec{x}')} +  \\nabla\\hat{f}(\\vec{x}')\\cdot\\left(\\vec{x} - \\vec{x}'\\right)\n",
    "\\end{equation}\n",
    "\n",
    "where $\\vec{x}'$ is the root of $\\hat{f}(\\vec{x})$. In practice people may choose the trivial root $\\vec{x}' = \\vec{0}$, however a nearby root is ideal. This root is often called the **baseline** input. Note that as opposed to the linear example above, we consider the product of the partial $\\frac{\\partial  \\hat{f}(\\vec{x})}{\\partial x_i}$ and the increase above baseline $(x_i - x_i')$."
   ]
  },
  {
   "cell_type": "markdown",
   "metadata": {},
   "source": [
    "### Neural Network Feature Importance\n",
    "\n",
    "In neural networks the partial derivatives are a poor approximation of the real changes to the output. Small changes to the input can have discontinuous changes, making the terms above have little explanatory power. This is called the **shattered gradients** problem {cite}`pmlr-v70-balduzzi17b`. Breaking down each feature separately also misses correlations between features -- which don't exist in a linear model. Thus the derivative approximation works satisfactorily in locally linear models, but not deep neural networks.\n",
    "\n",
    "There are a variety of techniques that get around the issue of shattered gradients in neural networks. Two popular methods are integrated gradients {cite}`sundararajan2017axiomatic` and SmoothGrad{cite}`smilkov2017smoothgrad`. Integrated gradients creates a path from $\\vec{x}'$ to $\\vec{x}$ and integrates Equation 4 along that path:\n",
    "\n",
    "\\begin{equation}\n",
    "\\textrm{IG}_i = \\left(\\vec{x} - \\vec{x}'\\right) \\int_0^1\\left[\\nabla\\hat{f}\\left(\\vec{x}' + t\\left(\\vec{x} - \\vec{x}'\\right)\\right)\\right]_i\\,dt\n",
    "\\end{equation}\n",
    "\n",
    "where $t$ is some increment along the path such that $\\vec{x}' + t\\left(\\vec{x} - \\vec{x}'\\right) = \\vec{x}'$ when $t = 0$ and $\\vec{x}' + t\\left(\\vec{x} - \\vec{x}'\\right) = \\vec{x}$ when $t = 1$. This gives us the integrated gradient for each feature $i$. The integrated gradients are the importance of each feature, but without the complexity of shattered gradients. There are some nice properties too, like $\\sum_i \\textrm{IG}_i = f(\\vec{x}) - f(\\vec{x}')$ so that the integrated gradients provide a complete partition of the change from the baseline to the prediction{cite}`sundararajan2017axiomatic`.\n",
    "\n",
    "Implementing integrated gradients is actually relatively simple. You approximate the path integral with a Riemann sum by breaking the path into a set of discrete inputs between the input features $\\vec{x}$ and the baseline $\\vec{x}'$. You compute the gradient of these inputs with the neural network. Then you multiply that be the change in features above baseline: $\\left(\\vec{x} - \\vec{x}'\\right)$.\n",
    "\n",
    "SmoothGrad is a similar idea to the integrated gradients. Rather than summing up the gradients along a path though, we sum gradients from random points nearby our prediction. The equation is:\n",
    "\n",
    "\\begin{equation}\n",
    "\\textrm{SG}_i = \\sum_j^M\\left[\\nabla\\hat{f}\\left(\\vec{x}' + \\vec{\\epsilon}\\right)\\right]_i\n",
    "\\end{equation}\n",
    "\n",
    "where $M$ is a choice of sample number and $\\vec{\\epsilon}$ is sampled from $D$ zero-mean Guassians {cite}`smilkov2017smoothgrad`. The only change in implementation here is to replace the path with a series of random perturbations.\n",
    "\n",
    "Beyond these gradient based approaches, Layer-wise Relevance Propagation (LRP) is another popular approach for feature importance analysis in neural networks. LRP works by doing a backwards propogation through the neural network that partitions the output value of one layer to the input features. It \"distributes relevance\". What is unusual about LRP is that each layer type needs its own implementation. It doesn't rely on the analytic derivative, but instead a Taylor series expansion of the layer equation. There are variants for GNNs and NLP, so that LRP can be used in most settings in materials and chemistry {cite}`Montavon2019`."
   ]
  },
  {
   "cell_type": "markdown",
   "metadata": {},
   "source": [
    "### Shapley Values\n",
    "\n",
    "A model agnostic way to treat feature importance is with **Shapley values.** Shapley values come from game theory and are a solution to how to pay a coalition of cooperating players according to their contributions. Imagine each feature is a player and we would like to \"pay\" them according to their contribution to the predicted value. A Shapley value $\\phi_i$ is the pay to feature $i$. We break-up the predicted function value $\\hat{f}(x)$ into the Shapley values so that the sum of the pay is the function value ($\\sum_i \\phi_i = \\hat{f}(x)$. This means you can interpet the Shapley value of a feature as its numerical contribution to the prediction. Shapley values are powerful because their calculation is agnostic to the model, they partition the predicted value among each feature, and they have other attributes that we would desire in an explanation of a prediction (symmetry, linearity, permutation invariant, etc.). Their disadvantage are that exact computation is combinatorial with respect to feature number and they have no sparsity, making them less helpful as feature number grows. Most methods we discuss here also have no sparsity -- you can also force your model to be sparse to achieve sparse explanations.\n",
    "\n",
    "Shapley values are computed as\n",
    "\n",
    "\\begin{equation}\n",
    "\\phi_i = \\frac{1}{Z}\\sum_{S \\in M \\backslash x_i}v(S\\cup x_i) - v(S)\n",
    "\\end{equation}\n",
    "$$\n",
    "Z = \\frac{|S|!\\left(N - |S| - 1\\right)!}{N!}\n",
    "$$\n",
    "\n",
    "where $S \\in N \\backslash x_i$ means all sets of features that exclude feature $x_i$, $S\\cup x_i$ means putting back feature $x_i$ into the set, and $v(S)$ is the value of $\\hat{f}(x)$ using only the features included in $S$, and $Z$ is a normalization value. The formula can be interpreted as the mean of all possible differences in $\\hat{f}$ formed by adding/removing feature $i$. \n",
    "\n",
    "One immediate concern though is how can we \"remove\" feature $i$ from a model equation? We marginilize out feature $i$. Recall a marginal is a way to integrate out a random variable -- $P(x) = \\int\\, P(x,y)\\,dy$. That integrates over all possible $x$ values. Marginalization can be used on functions of random variables, which obviously are also random variables, by taking an expectation: $E_y[f | X = x] = \\int\\,f(X=x,y)P(X=x,y)\\, dy$. I've emphasized that the random variable $X$ is fixed in the integral and thus $E_y[f]$ is a function of $x$. $y$ is removed by computing the expected value of $f(x,y)$ where $x$ is fixed (the function argument). We're essentially replacing $f(x,y)$ with a new function $E_y[f]$ that is the average of all possible $y$ values I'm over-explaining this though, it's quite intuitive. The other detail is that *value* is the change relative to the average of $\\hat{f}$. You can typically ignore this extra term - it cancels, but I include it for completeness. Thus the value equation becomes {cite}`vstrumbelj2014explaining`:\n",
    "\n",
    "\\begin{equation}\n",
    "v(x_i) = \\int\\,f(x_0, x_1, \\ldots, x_i,\\ldots, x_N)P(x_0, x_1, \\ldots, x_i,\\ldots, x_N)\\, dx_i - E\\left[\\hat{f}(\\vec{x})\\right]\n",
    "\\end{equation}\n",
    "\n",
    "How do we compute the marginal $\\int\\,f(x_0, x_1, \\ldots, x_i,\\ldots, x_N)P(x_0, x_1, \\ldots, x_i,\\ldots, x_N)\\, dx_i$? We do not have a known probability distribution $P(\\vec{x})$. We can sample from $P(\\vec{x})$ by considering our data as an **empirical distribution**. That is, we can sample from $P(\\vec{x})$ by sampling data points. There is a little bit of complexity here because we need to sample the $\\vec{x}$'s jointly, we cannot just mix together individual features randomly because there are correlations between features that will be removed. {cite}`vstrumbelj2014explaining` showed that we can directly estimate the $i$th Shapley value with:\n",
    "\n",
    "\\begin{equation}\n",
    "\\phi_i(\\vec{x}) = \\frac{1}{M}\\sum^M \\hat{f}\\left(\\vec{z}_{+i}\\right) - \\hat{f}\\left(\\vec{z}_{-i}\\right)\n",
    "\\end{equation}\n",
    "\n",
    "where $\\vec{z}$ is a \"chimera\" exapmle constructed from the real example $\\vec{x}$ and a randomly drawn example $\\vec{x}'$. We randomly select from $\\vec{x}$ and $\\vec{x}'$ to construct $\\vec{z}$, except $\\vec{z}_{+i}$ specifically has the $i$th feature from the example $\\vec{x}$ and $\\vec{z}_{-i}$ has the $i$th feature from the random example $\\vec{x}'$. $M$ is chosen large enough to get a good sample for this value. {cite}`vstrumbelj2014explaining` gives guidance on choosing $M$, but basically as large $M$ as computationally feasible reasonable. \n",
    "\n",
    "```{margin}\n",
    "Marginalizing features *is not* the same as replacing features with their average.\n",
    "```\n",
    "With this efficient approximation method, the strong theory, and independence of model choice, Shapley values are an excellent choice for describing feature importance for examples."
   ]
  },
  {
   "cell_type": "markdown",
   "metadata": {},
   "source": [
    "## Running This Notebook\n",
    "\n",
    "\n",
    "Click the &nbsp;<i aria-label=\"Launch interactive content\" class=\"fas fa-rocket\"></i>&nbsp; above to launch this page as an interactive Google Colab. See details below on installing packages, either on your own environment or on Google Colab\n",
    "\n",
    "````{tip} My title\n",
    ":class: dropdown\n",
    "To install packages, execute this code in a new cell\n",
    "\n",
    "```\n",
    "!pip install matplotlib numpy pandas seaborn jax jaxlib dm-haiku\n",
    "```\n",
    "\n",
    "````"
   ]
  },
  {
   "cell_type": "code",
   "execution_count": 1,
   "metadata": {
    "scrolled": true,
    "tags": [
     "hide-cell"
    ]
   },
   "outputs": [],
   "source": [
    "import haiku as hk\n",
    "import jax\n",
    "import tensorflow as tf\n",
    "import jax.numpy as jnp\n",
    "import numpy as np\n",
    "import matplotlib.pyplot as plt\n",
    "import seaborn as sns\n",
    "import matplotlib as mpl\n",
    "import warnings\n",
    "import urllib\n",
    "import jax.experimental.optimizers as opt\n",
    "warnings.filterwarnings('ignore')\n",
    "sns.set_context('notebook')\n",
    "sns.set_style('dark',  {'xtick.bottom':True, 'ytick.left':True, 'xtick.color': '#666666', 'ytick.color': '#666666',\n",
    "                        'axes.edgecolor': '#666666', 'axes.linewidth':     0.8 , 'figure.dpi': 300})\n",
    "color_cycle = ['#1BBC9B', '#F06060', '#5C4B51', '#F3B562', '#6e5687']\n",
    "mpl.rcParams['axes.prop_cycle'] = mpl.cycler(color=color_cycle) \n",
    "np.random.seed(0)\n",
    "tf.random.set_seed(0)\n",
    "\n",
    "ALPHABET = ['-', 'A','R','N','D','C','Q','E','G','H','I', 'L','K','M','F','P','S','T','W','Y','V']\n",
    "def seq2array(seq, L=200):\n",
    "    return np.pad(list(map(ALPHABET.index, seq)), (0,L - len(seq))).reshape(1, -1)\n",
    "def array2oh(a):\n",
    "    a = np.squeeze(a)\n",
    "    o = np.zeros((len(a), 21))\n",
    "    o[np.arange(len(a)), a] = 1\n",
    "    return o.astype(np.float32).reshape(1, -1, 21)\n",
    "\n",
    "urllib.request.urlretrieve(\n",
    "    'https://github.com/whitead/dmol-book/raw/master/data/hemolytic.npz', 'hemolytic.npz')\n",
    "with np.load('hemolytic.npz', 'rb') as r:\n",
    "    pos_data, neg_data = r['positives'], r['negatives']"
   ]
  },
  {
   "cell_type": "markdown",
   "metadata": {},
   "source": [
    "## Feature Importance Example\n",
    "\n",
    "Let's see an example of these feature importance methods on a peptide prediction task to predict if a peptide will kill red blood cells (hemolytic). This is similar to the solubility prediction example from {doc}`layers`. The data is from {cite}`barrett2020investigating`.  The model takes in peptides sequences (e.g., `DDFRD`) and predicts the probability that the peptide is hemolytic. The goal of the feature importance method here will be to identify which amino acids matter most for the hemolytic activity. The hidden-cell below loads and processes the data into a dataset."
   ]
  },
  {
   "cell_type": "code",
   "execution_count": 2,
   "metadata": {
    "tags": [
     "hide-cell"
    ]
   },
   "outputs": [],
   "source": [
    "# create labels and stich it all into one \n",
    "# tensor\n",
    "labels = np.concatenate((np.ones((pos_data.shape[0], 1), dtype=pos_data.dtype), np.zeros((neg_data.shape[0], 1) , dtype=pos_data.dtype)), axis=0)\n",
    "features = np.concatenate((pos_data, neg_data), axis=0)\n",
    "# we now need to shuffle before creating TF dataset\n",
    "# so that our train/test/val splits are random\n",
    "i = np.arange(len(labels))\n",
    "np.random.shuffle(i)\n",
    "labels = labels[i]\n",
    "features = features[i]\n",
    "L = pos_data.shape[-2]\n",
    "\n",
    "# need to add token for empty amino acid\n",
    "# dataset just has all zeros currently\n",
    "features = np.concatenate((np.zeros((features.shape[0], L, 1)), features), axis=-1)\n",
    "features[np.sum(features, -1) == 0, 0] = 1.0\n",
    "\n",
    "batch_size = 16\n",
    "full_data = tf.data.Dataset.from_tensor_slices((features.astype(np.float32), labels))\n",
    "\n",
    "# now split into val, test, train\n",
    "N = pos_data.shape[0] + neg_data.shape[0]\n",
    "split = int(0.1 * N)\n",
    "test_data = full_data.take(split).batch(batch_size)\n",
    "nontest = full_data.skip(split)\n",
    "val_data, train_data = nontest.take(split).batch(batch_size), nontest.skip(split).shuffle(1000).batch(batch_size)"
   ]
  },
  {
   "cell_type": "markdown",
   "metadata": {},
   "source": [
    "We rebuild the convolution model in JAX (using Haiku) to make working with gradients a bit easier. We also make a few changes to the model -- we pass in the sequence length and amino acid fractions as extra information in addition to the convolutions."
   ]
  },
  {
   "cell_type": "code",
   "execution_count": 3,
   "metadata": {},
   "outputs": [],
   "source": [
    "def binary_cross_entropy(logits, y):\n",
    "    '''Binary cross entropy without sigmoid. Works with logits directly'''\n",
    "    return jnp.clip(logits, 0, None) - logits * y + jnp.log(1 + jnp.exp(-jnp.abs(logits)))\n",
    "def model_fn(x):\n",
    "    # get fractions, excluding skip character\n",
    "    aa_fracs = jnp.mean(x, axis=1)[:,1:]\n",
    "    # compute convolutions/poolings\n",
    "    mask = jnp.sum(x[...,1:], axis=-1, keepdims=True)    \n",
    "    for kernel, pool in zip([5, 3, 3], [4, 2, 2]):\n",
    "        x = hk.Conv1D(16, kernel)(x) * mask\n",
    "        x = jax.nn.tanh(x)\n",
    "        x = hk.MaxPool(pool, pool, 'VALID')(x)\n",
    "        mask = hk.MaxPool(pool, pool, 'VALID')(mask)\n",
    "    # combine fractions, length, and convolution ouputs\n",
    "    x = jnp.concatenate((hk.Flatten()(x), aa_fracs, jnp.sum(mask, axis=1)),axis=1)        \n",
    "    # dense layers. no bias, so zeros give P=0.5\n",
    "    logits = hk.Sequential([               \n",
    "        hk.Linear(256, with_bias=False), jax.nn.tanh,\n",
    "        hk.Linear(64, with_bias=False), jax.nn.tanh,\n",
    "        hk.Linear(1, with_bias=False)\n",
    "    ])(x)\n",
    "    return logits\n",
    "model = hk.without_apply_rng(hk.transform(model_fn))\n",
    "def loss_fn(params, x, y):    \n",
    "    logits = model.apply(params, x)\n",
    "    return jnp.mean(binary_cross_entropy(logits, y))\n",
    "@jax.jit\n",
    "def hemolytic_prob(params, x):\n",
    "    logits = model.apply(params, x)\n",
    "    return jax.nn.sigmoid(jnp.squeeze(logits))\n",
    "@jax.jit\n",
    "def accuracy_fn(params, x, y):\n",
    "    logits = model.apply(params, x)\n",
    "    return jnp.mean((logits >= 0) * y + (logits < 0) * (1 - y))"
   ]
  },
  {
   "cell_type": "code",
   "execution_count": 4,
   "metadata": {},
   "outputs": [
    {
     "name": "stderr",
     "output_type": "stream",
     "text": [
      "WARNING:absl:No GPU/TPU found, falling back to CPU. (Set TF_CPP_MIN_LOG_LEVEL=0 and rerun for more info.)\n"
     ]
    }
   ],
   "source": [
    "rng = jax.random.PRNGKey(0)\n",
    "xi, yi = features[:batch_size], labels[:batch_size]\n",
    "params = model.init(rng, xi)\n",
    "\n",
    "opt_init, opt_update, get_params = opt.adam(1e-2)\n",
    "opt_state = opt_init(params)\n",
    "\n",
    "@jax.jit\n",
    "\n",
    "def update(step, opt_state, x, y):\n",
    "    value, grads = jax.value_and_grad(loss_fn)(get_params(opt_state), x, y)\n",
    "    opt_state = opt_update(step, grads, opt_state)\n",
    "    return value, opt_state"
   ]
  },
  {
   "cell_type": "code",
   "execution_count": 5,
   "metadata": {},
   "outputs": [],
   "source": [
    "epochs = 32\n",
    "for e in range(epochs):\n",
    "    avg_v = 0\n",
    "    for i, (xi, yi) in enumerate(train_data):\n",
    "        v, opt_state = update(i, opt_state, xi.numpy(), yi.numpy())        \n",
    "        avg_v += v\n",
    "opt_params = get_params(opt_state)"
   ]
  },
  {
   "cell_type": "markdown",
   "metadata": {},
   "source": [
    "Here we compute the accuracy of our model, which is quite good. "
   ]
  },
  {
   "cell_type": "code",
   "execution_count": 6,
   "metadata": {},
   "outputs": [
    {
     "name": "stdout",
     "output_type": "stream",
     "text": [
      "0.95208335\n"
     ]
    }
   ],
   "source": [
    "acc = []\n",
    "for xi, yi in test_data:\n",
    "    acc.append(accuracy_fn(opt_params, xi.numpy(), yi.numpy()))\n",
    "print(jnp.mean(np.array(acc)))"
   ]
  },
  {
   "cell_type": "markdown",
   "metadata": {},
   "source": [
    "Let's try an amino acid sequence, a peptide, to get a feel for the model. The model outputs logits (logarithm of odds), which we put through a sigmoid to get probabilities. The peptides must be converted from a sequence to a matrix of one-hot column vectors. We'll try two known sequences: Q is known to be common in hemolytic residues and the second sequence is poly-G, which is the simplest amino acid."
   ]
  },
  {
   "cell_type": "code",
   "execution_count": 7,
   "metadata": {
    "scrolled": true
   },
   "outputs": [
    {
     "name": "stdout",
     "output_type": "stream",
     "text": [
      "Probability QQQQQ of being hemolytic 1.00\n",
      "Probability GGGGG of being hemolytic 0.00\n"
     ]
    }
   ],
   "source": [
    "s = 'QQQQQ'\n",
    "sm = array2oh(seq2array(s))\n",
    "p = hemolytic_prob(opt_params, sm)\n",
    "print(f'Probability {s} of being hemolytic {p:.2f}')\n",
    "\n",
    "s = 'GGGGG'\n",
    "sm = array2oh(seq2array(s))\n",
    "p = hemolytic_prob(opt_params, sm)\n",
    "print(f'Probability {s} of being hemolytic {p:.2f}')"
   ]
  },
  {
   "cell_type": "markdown",
   "metadata": {},
   "source": [
    "It looks reasonable -- the model matches our intuition about these two sequences\n",
    "\n",
    "### Gradients\n",
    "\n",
    "Now to start examining *why* a particular sequence is hemolytic! We'll begin by computing the gradients with respect to input -- the naieve approach that is susceptible to shattered gradients. Computing this is a component in the process for integrated and smooth gradients, so not wasted effort. We will use a more complex peptide sequence that is known to be hemolytic to get more interesting analysis. "
   ]
  },
  {
   "cell_type": "code",
   "execution_count": 8,
   "metadata": {
    "tags": [
     "hide-cell"
    ]
   },
   "outputs": [],
   "source": [
    "def plot_grad(g, s, ax=None):\n",
    "    #g = np.array(g)\n",
    "    if ax is None:\n",
    "        plt.figure()\n",
    "        ax = plt.gca()\n",
    "    if len(g.shape) == 3:\n",
    "        h = g[0, np.arange(len(s)), list(map(ALPHABET.index,s))]\n",
    "    else:\n",
    "        h = g\n",
    "    ax.bar(np.arange(len(s)), height=h)\n",
    "    ax.set_xticks(range(len(s)))\n",
    "    ax.set_xticklabels(s)"
   ]
  },
  {
   "cell_type": "code",
   "execution_count": 9,
   "metadata": {},
   "outputs": [
    {
     "name": "stdout",
     "output_type": "stream",
     "text": [
      "Probability RAGLQFPVGRLLRRLLRRLLR of being hemolytic 1.00\n"
     ]
    }
   ],
   "source": [
    "s = 'RAGLQFPVGRLLRRLLRRLLR'\n",
    "sm = array2oh(seq2array(s))\n",
    "p = hemolytic_prob(opt_params, sm)\n",
    "print(f'Probability {s} of being hemolytic {p:.2f}')"
   ]
  },
  {
   "cell_type": "code",
   "execution_count": 10,
   "metadata": {},
   "outputs": [
    {
     "data": {
      "image/png": "[encoded data removed]",
      "text/plain": [
       "<Figure size 432x288 with 1 Axes>"
      ]
     },
     "metadata": {},
     "output_type": "display_data"
    }
   ],
   "source": [
    "gradient = jax.grad(lambda s: jnp.squeeze(model.apply(opt_params, s)), 0)\n",
    "g = gradient(sm)\n",
    "plot_grad(g, s)"
   ]
  },
  {
   "cell_type": "markdown",
   "metadata": {},
   "source": [
    "Remember that the model outputs logits. Positive value of the gradient mean this amino acid is responsible for pushing hemolytic probability higher and negative values mean the amino acid is pushing towards non-hemolytic. Interestingly, you can see a strong position dependence on the leucine (L) and arginine (R).\n",
    "\n",
    "### Integrated Gradients\n",
    "\n",
    "We'll now implement the integrated gradients method. We go through three basic steps:\n",
    "\n",
    "1. Create an array of inputs going from baseline to input peptide\n",
    "2. Evaluate gradient on each input\n",
    "3. Compute the sum of the gradients and multiply it by difference between baseline and peptide\n",
    "\n",
    "The baseline for us is all zeros -- which gives a probability of 0.5 (logits = 0, a model root). This baseline is exactly on the decision boundary. You could use other baselines like all glycines or all alanines, just they should be at or near probability of 0.5. You can find a detailed and interactive exploration of the baseline choice in {cite}`sturmfels2020visualizing`."
   ]
  },
  {
   "cell_type": "code",
   "execution_count": 11,
   "metadata": {},
   "outputs": [],
   "source": [
    "def integrated_gradients(sm, N):\n",
    "    baseline = jnp.zeros((1, L, 21))\n",
    "    t = jnp.linspace(0, 1, N).reshape(-1, 1, 1)\n",
    "    path = baseline * (1 - t) + sm * t\n",
    "    def get_grad(pi):\n",
    "        # compute gradient \n",
    "        # add/remove batch axes\n",
    "        return gradient(pi[jnp.newaxis, ...])[0]\n",
    "    gs = jax.vmap(get_grad)(path)\n",
    "    # sum pieces (Riemann sum), multiply by (x - x')\n",
    "    ig = jnp.mean(gs, axis=0, keepdims=True) * (sm - baseline)\n",
    "    return ig\n",
    "ig = integrated_gradients(sm, 1024)"
   ]
  },
  {
   "cell_type": "code",
   "execution_count": 12,
   "metadata": {},
   "outputs": [
    {
     "data": {
      "image/png": "[encoded data removed]",
      "text/plain": [
       "<Figure size 432x288 with 1 Axes>"
      ]
     },
     "metadata": {},
     "output_type": "display_data"
    }
   ],
   "source": [
    "plot_grad(ig, s)"
   ]
  },
  {
   "cell_type": "markdown",
   "metadata": {},
   "source": [
    "We see that the position dependence has become more pronounced, with arginine being very sensitive to position. Relatively little has qualitatively changed between this and the vanilla gradients.\n",
    "\n",
    "### SmoothGrad\n",
    "\n",
    "To do SmoothGrad, our steps are almost identicial:\n",
    "\n",
    "1. Create an array of inputs that are random pertubations of the input peptide\n",
    "2. Evaluate gradient on each input\n",
    "3. Compute the mean of the gradients\n",
    "\n",
    "There is one additional hyperparameter, $\\sigma$, which in principle should be as small as possible while still causing the model output to change.\n"
   ]
  },
  {
   "cell_type": "code",
   "execution_count": 13,
   "metadata": {},
   "outputs": [
    {
     "data": {
      "image/png": "[encoded data removed]",
      "text/plain": [
       "<Figure size 432x288 with 1 Axes>"
      ]
     },
     "metadata": {},
     "output_type": "display_data"
    }
   ],
   "source": [
    "def smooth_gradients(sm, N, rng, sigma=1e-3):\n",
    "    baseline = jnp.zeros((1, L, 21))\n",
    "    t = jax.random.normal(rng, shape=(N, sm.shape[1], sm.shape[2])) * sigma\n",
    "    path = sm + t\n",
    "    # remove examples that are negative and force summing to 1\n",
    "    path = jnp.clip(path, 0, 1)\n",
    "    path /= jnp.sum(path, axis=2, keepdims=True)    \n",
    "    def get_grad(pi):\n",
    "        # compute gradient \n",
    "        # add/remove batch axes\n",
    "        return gradient(pi[jnp.newaxis, ...])[0]\n",
    "    gs = jax.vmap(get_grad)(path)\n",
    "    # mean\n",
    "    ig = jnp.mean(gs, axis=0, keepdims=True)\n",
    "    return ig\n",
    "sg = smooth_gradients(sm, 1024, jax.random.PRNGKey(0))\n",
    "plot_grad(sg, s)"
   ]
  },
  {
   "cell_type": "markdown",
   "metadata": {},
   "source": [
    "It looks remarkably similar to the vanilla gradient setting -- probably because our 1D input/shallow network is not as sensitive to shattered gradients."
   ]
  },
  {
   "cell_type": "markdown",
   "metadata": {},
   "source": [
    "### Shapley Value\n",
    "\n",
    "Now we will approximate the Shapley values for each feature using Equation 10.9. The Shapley value computation is different than previous approaches because it does not require gradients. The basic algorithm is:\n",
    "\n",
    "1. select random point x'\n",
    "2. create point z by combining x and x'\n",
    "3. compute change in predicted function\n",
    "\n",
    "One efficiency change we make is to prevent modifying the sequence in its padding -- basically preventing exploring making the sequence longer. "
   ]
  },
  {
   "cell_type": "code",
   "execution_count": 14,
   "metadata": {},
   "outputs": [],
   "source": [
    "def shapley(i, sm, sampled_x, rng, model, opt_params=opt_params):\n",
    "    M,F,*_ = sampled_x.shape\n",
    "    z_choice = jax.random.bernoulli(rng, shape=(M,F))\n",
    "    # only swap out features within length of sm\n",
    "    mask = jnp.sum(sm[...,1:], -1)        \n",
    "    z_choice *= mask\n",
    "    z_choice = 1 - z_choice\n",
    "    # construct with and w/o ith feature\n",
    "    z_choice = jax.ops.index_update(z_choice, jax.ops.index[:,i], 0.)\n",
    "    z_choice_i = jax.ops.index_update(z_choice, jax.ops.index[:,i], 1.0)\n",
    "    # select them via multiplication\n",
    "    z = sm * z_choice[...,jnp.newaxis] + \\\n",
    "        sampled_x * (1 - z_choice[...,jnp.newaxis])\n",
    "    z_i = sm * z_choice_i[...,jnp.newaxis] + \\\n",
    "        sampled_x * (1 - z_choice_i[...,jnp.newaxis])\n",
    "    v = model(opt_params, z_i) - model(opt_params, z)    \n",
    "    return jnp.squeeze(jnp.mean(v, axis=0))\n",
    "    \n",
    "# assume data is alrady shuffled, so just take M\n",
    "M = 4096\n",
    "sl = len(s)\n",
    "sampled_x = train_data.unbatch().batch(M).as_numpy_iterator().next()[0]\n",
    "# make batched shapley so we can compute for all features\n",
    "bshapley = jax.vmap(shapley, in_axes=(0, None, None, 0, None))\n",
    "sv = bshapley(jnp.arange(sl), sm, sampled_x, jax.random.split(jax.random.PRNGKey(0), sl), model.apply)"
   ]
  },
  {
   "cell_type": "code",
   "execution_count": 15,
   "metadata": {
    "tags": [
     "remove-cell"
    ]
   },
   "outputs": [
    {
     "data": {
      "application/papermill.record/image/png": "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\n",
      "application/papermill.record/text/plain": "<Figure size 432x288 with 1 Axes>"
     },
     "metadata": {
      "scrapbook": {
       "mime_prefix": "application/papermill.record/",
       "name": "shapley_convg"
      }
     },
     "output_type": "display_data"
    },
    {
     "data": {
      "image/png": "[encoded data removed]",
      "text/plain": [
       "<Figure size 432x288 with 1 Axes>"
      ]
     },
     "metadata": {},
     "output_type": "display_data"
    }
   ],
   "source": [
    "from myst_nb import glue\n",
    "val = []\n",
    "ms = np.linspace(2, 4096, 25)\n",
    "for m in ms.astype(np.int32):\n",
    "    sampled_x = train_data.unbatch().batch(m).as_numpy_iterator().next()[0]\n",
    "    val.append(jnp.sum(bshapley(jnp.arange(sl), sm, sampled_x, jax.random.split(jax.random.PRNGKey(0), sl), model.apply)))\n",
    "plt.plot(ms, val, '-o', label='Sum of Shapley Values')\n",
    "plt.axhline(model.apply(opt_params, sm), color='C1', label=r'$\\hat{f}\\left(\\vec{x}\\right)$')\n",
    "plt.legend()\n",
    "plt.tight_layout()\n",
    "glue('shapley_convg', plt.gcf(), display=False)\n",
    "\n"
   ]
  },
  {
   "cell_type": "markdown",
   "metadata": {},
   "source": [
    "One nice check on Shapley values is that we can check that their sum is equal to the value of model function. This should be true because the Shapley values partition the model among the features. That value is computed as:\n"
   ]
  },
  {
   "cell_type": "code",
   "execution_count": 16,
   "metadata": {},
   "outputs": [
    {
     "name": "stdout",
     "output_type": "stream",
     "text": [
      "6.7732835 [[8.085391]]\n"
     ]
    }
   ],
   "source": [
    "print(np.sum(sv), model.apply(opt_params, sm))"
   ]
  },
  {
   "cell_type": "markdown",
   "metadata": {},
   "source": [
    "which is *some* disagreement. This is an effect of the approximation method we're using. We can check that by examining how sample number effects the sum of Shapley values.\n",
    "\n",
    "```{glue:figure} shapley_convg\n",
    "---\n",
    "name: shapley_convg\n",
    "---\n",
    "A comparison of sum of Shapley values and function value as a function of samples number in the Shapley value approximation.\n",
    "```\n",
    "\n",
    "It is slowly converging. Finally we can view the individual Shapley values, which is our explanation."
   ]
  },
  {
   "cell_type": "code",
   "execution_count": 17,
   "metadata": {},
   "outputs": [
    {
     "data": {
      "image/png": "[encoded data removed]",
      "text/plain": [
       "<Figure size 432x288 with 1 Axes>"
      ]
     },
     "metadata": {},
     "output_type": "display_data"
    }
   ],
   "source": [
    "plot_grad(sv, s)"
   ]
  },
  {
   "cell_type": "markdown",
   "metadata": {},
   "source": [
    "The four methods are shown side-by-side below. "
   ]
  },
  {
   "cell_type": "code",
   "execution_count": 18,
   "metadata": {},
   "outputs": [
    {
     "data": {
      "image/png": "[encoded data removed]",
      "text/plain": [
       "<Figure size 864x288 with 1 Axes>"
      ]
     },
     "metadata": {},
     "output_type": "display_data"
    }
   ],
   "source": [
    "heights = []\n",
    "plt.figure(figsize=(12,4))\n",
    "x = np.arange(len(s))\n",
    "for i,(gi,l) in enumerate(zip([g, ig, sg], ['Gradient', 'Integrated', 'Smooth'])):\n",
    "    h = gi[0, np.arange(len(s)), list(map(ALPHABET.index,s))]\n",
    "    plt.bar(x + i/5 - 1/4, h, width=1/5, edgecolor='black', label=l)\n",
    "plt.bar(x + 3\n",
    "        /5 - 1/4, sv, width=1/5, edgecolor='black', label='Shapley')\n",
    "plt.gca().set_xticks(range(len(s)))\n",
    "plt.gca().set_xticklabels(s)\n",
    "plt.legend()\n",
    "plt.show()"
   ]
  },
  {
   "cell_type": "markdown",
   "metadata": {},
   "source": [
    "As someone who works with peptides, I believe the Shapley is the most accurate here. I wouldn't expect the pattern of L and R to be that significant, which is what the Shapley values show. Another difference is that the Shapley values do not show the phenylalanine (F) as have a significant effect. \n",
    "\n",
    "What can we conclude from this information? We could perhaps add an explanation like this: \"The sequence is predicted to be hemolytic primarily because of the glutamine, proline, and arrangement of lecucine and arginine.\""
   ]
  },
  {
   "cell_type": "markdown",
   "metadata": {},
   "source": [
    "## Training Data Importance\n",
    "\n",
    "Another kind of explanation or interpretation we might desire is *which* training data points contribute most to a prediction. This is a more literal answer to the question: \"Why did my model predict this?\" -- neural networks are a result of training data and thus the answer to why a prediction is made can be traced to training data. Ranking training data for a given prediction helps us understand which training examples are causing the neural network to predict a value. This is like an influence function, $\\mathcal{I}(x_i, x)$, which gives a score of incluence for training point $i$ and input $x$. The most straightforward way to compute the influence would be to train the neural network with (i.e., $\\hat{f}(x)$) and without $x_i$ (i.e., $\\hat{f}_{-x_i}(x)$) and define the influence as\n",
    "\n",
    "\\begin{equation}\n",
    "\\mathcal{I}(x_i, x) = \\hat{f}_{-x_i}(x) - \\hat{f}(x)\n",
    "\\end{equation}\n",
    "\n",
    "For example, if a prediction is higher after removing the training point $x_i$ from training, we would say that point has a positive influence. Computing this influence function requires training the model as many times as you have points -- typically computationally infeasible. {cite}`koh2017understanding` show a way to approximate this by looking at infinitesimal changes to the *weights* of each training point. Computing these influence functions do require computing a Hessian with respect to the loss function and thus are not commonly used. If you're using JAX though, this is simple to do.\n",
    "\n",
    "```{margin}\n",
    "If using a kernel model, the features are the training data. The above methods like integrated gradients, give training data importance.\n",
    "```\n",
    "\n",
    "Training data importance provides an interpretation that is useful for deep learning experts. It tells you which training examples are most influential for a given predictions. This can help troubleshoot issues with data or tracing explanations for spurious predictions. However, a typical user of predictions from a deep learning model will probably be unsatisfied with a ranking of training data as an explanation. "
   ]
  },
  {
   "cell_type": "markdown",
   "metadata": {},
   "source": [
    "## Surrogate Models\n",
    "\n",
    "One of the more general ideas in interpretability is to fit an interpretable model to a black box model *in the neighborhood of a specific example*. We assume that an interpretable model cannot be fit globally to a black box model -- otherwise we could just use the interpretable model and throw away the black box model. However, if we fit the interpretable model to just a small region around an example of interest, we can provide an explanation through the locally correct interpretable model. We call the interpretable model a **local surrogate model**. Examples of local surrogate models that are inherently interpretable include decision trees, linear models, sparse linear models (for succint explanations), a Naive Bayes Classifier, etc.\n",
    "\n",
    "A popular algorithm for this process of fitting a local surrogate model is called Local Interpretable Model-Agnostic Explanations (LIME) {cite}`ribeiro2016should`. LIME fits the local surrogate model in the neighborhood of the example of interest utilizing the loss function that trained the original black box model. The loss function for the local surrogate model is weighted so that we value points closer to the example of interest as we regress the surrogate model. The LIME paper includes sparsifying the surrogate model in its notation, but we'll omit that from the loss equation since that is more of an attribute of the local surrogate model. Thus, our definition for the local surrogate model loss is\n",
    "\n",
    "\\begin{equation}\n",
    "\\mathcal{l^s}\\left(x'\\right) = w(x', x)\\mathcal{l}\\left(\\hat{f}_s(x'), \\hat{f}(x')\\right)\n",
    "\\end{equation}\n",
    "\n",
    "where $w(x', x)$ is a weight kernel function that weights points near example of interest $x$, $\\mathcal{l}(\\cdot,\\cdot)$ is the original black box model loss, $\\hat{f}(\\cdot)$ is the black box model, and $\\hat{f}_s(\\cdot)$ is the local surrogate model.\n",
    "\n",
    "\n",
    "```{margin}\n",
    "LIME as formulated in {cite}`ribeiro2016should` gives feature importance descriptions, but you can use Hmm, not sure if I'\n",
    "```\n",
    "\n",
    "The weight function is a bit ad hoc -- it depends on the data type. For regression tasks with scalar labels, we use a kernel function and you have a variety of choices: Gaussian, cosine, Epanechnikov. For text, the LIME implementations use a [Hamming distance](https://en.wikipedia.org/wiki/Hamming_distance) which just counts number of text tokens which do not match between two strings. Images use the same distance but with superpixels being the same as the example or blank.\n",
    "\n",
    "How are the points $x'$ generated? In the continuous case $x'$ is sampled *uniformly*, which is quite a feat since feature spaces are often unbounded. You could sample $x'$ according to your weight function and then omit the weighting (since it was sampled according to that) to avoid issues like unbounded feature spaces. In general, LIME is a bit subjective in continuous vector feature spaces. For images and text, $x'$ is formed by masking tokens (words) and zeroing (making black) superpixels. This leads to explanations that should feel quite similar to Shapley values -- and indeed you can show LIME is equivalent to Shapley values with some small notation changes."
   ]
  },
  {
   "cell_type": "markdown",
   "metadata": {},
   "source": [
    "## Counterfactuals \n",
    "\n",
    "A counterfactual is a solution to an optimization problem: find an example $x'$ that has a different label than $x$ and as close as possible to $x${cite}`wachter2017counterfactual`. You can formulate this like:\n",
    "\n",
    "\\begin{equation}\n",
    "\\textrm{minimize}\\qquad d(x, x')\\\\\n",
    "\\textrm{such that}\\qquad \\hat{f}(x) \\neq \\hat{f}(x')\n",
    "\\end{equation}\n",
    "\n",
    "In regression settings where $\\hat{f}(x)$ outputs a scalar, you need to modify your constraint to be some $\\Delta$ away from $\\hat{f}(x)$. $x'$ that satisfies this optimization problem is the counterfactual: a condition that did not occur and would have led to a different outcome. Typically finding $x'$ is treated as a derivative-free optimization. You can calculate $\\frac{\\partial \\hat{f}}{\\partial x'}$ and do constrained optimization, but in practice it can be faster to just randomly perturb $x$ until $\\hat{f}(x) \\neq \\hat{f}(x')$ like a Monte Carlo optimization. You can also use a generative model that can propose new $x'$ via unsupervised training. See {cite}`numeroso2020explaining` for an example of that method specifically with graph neural networks for molecules. \n",
    "\n",
    "Defining distance is an important subjective concern, that we saw above for LIME. A common example for molecular structures is Tanimoto similarity (also known as Jaccard index).\n",
    "\n",
    "Counterfactuals have a disadvantage compared to Shapley values: they do not provide a *complete* explanation. Shapley values sum to the prediction, meaning we are not missing any part of the explanation. Counterfactuals modify as few features as possible (minimizing distance) and so may not omit information about features that still contribute to a prediction.\n",
    "\n",
    "### Example\n",
    "\n",
    "We can quickly implement this idea for our peptide example above. We can define our distance as the Hamming distance. Then the closes $x'$ would be a single amino acid substitution. Let's just try enumerating those and see if we can achieve a label swap. We'll define a function that does a single substitution:"
   ]
  },
  {
   "cell_type": "code",
   "execution_count": 19,
   "metadata": {},
   "outputs": [
    {
     "data": {
      "text/plain": [
       "DeviceArray([[8.558988]], dtype=float32)"
      ]
     },
     "execution_count": 19,
     "metadata": {},
     "output_type": "execute_result"
    }
   ],
   "source": [
    "def check_cf(x, i, j):    \n",
    "    # copy\n",
    "    x = jnp.array(x)        \n",
    "    # substitute\n",
    "    x = jax.ops.index_update(x, jax.ops.index[:,i], 0)\n",
    "    x = jax.ops.index_update(x, jax.ops.index[:,i,j], 1)\n",
    "    #print(x)\n",
    "    return model.apply(opt_params, x)\n",
    "check_cf(sm, 0,0)"
   ]
  },
  {
   "cell_type": "markdown",
   "metadata": {},
   "source": [
    "Then build all possible substitutions with {obj}`jnp.meshgrid<jax.numpy.meshgrid>` and apply our function over that with {obj}`vmap<jax.vamp>`. {obj}`.ravel()<jax.numpy.ravel>` makes our array of indices be a single dimensions, so we do not need to worry about doing a complex vmap. "
   ]
  },
  {
   "cell_type": "code",
   "execution_count": 20,
   "metadata": {},
   "outputs": [],
   "source": [
    "ii, jj = jnp.meshgrid(jnp.arange(sl), jnp.arange(21))\n",
    "ii, jj = ii.ravel(), jj.ravel()\n",
    "x = jax.vmap(check_cf, in_axes=(None, 0, 0))(sm, ii, jj)"
   ]
  },
  {
   "cell_type": "markdown",
   "metadata": {},
   "source": [
    "Now we'll display all the single amino acid substitutions which resulted in a negative prediction - the logits are less than zero."
   ]
  },
  {
   "cell_type": "code",
   "execution_count": 40,
   "metadata": {},
   "outputs": [
    {
     "data": {
      "text/html": [
       "<tt>RAGL<span style=\"color:red;\">-</span>FPVGRLLRRLLRRLLR<br/>RAGLQF<span style=\"color:red;\">-</span>VGRLLRRLLRRLLR<br/>RAGL<span style=\"color:red;\">A</span>FPVGRLLRRLLRRLLR<br/>RAGLQF<span style=\"color:red;\">A</span>VGRLLRRLLRRLLR<br/>RAGL<span style=\"color:red;\">C</span>FPVGRLLRRLLRRLLR<br/>RAGLQF<span style=\"color:red;\">C</span>VGRLLRRLLRRLLR<br/>RAGLQFP<span style=\"color:red;\">C</span>GRLLRRLLRRLLR<br/>RAGL<span style=\"color:red;\">I</span>FPVGRLLRRLLRRLLR<br/>RAGLQF<span style=\"color:red;\">I</span>VGRLLRRLLRRLLR<br/>RAGL<span style=\"color:red;\">L</span>FPVGRLLRRLLRRLLR<br/>RAGLQF<span style=\"color:red;\">L</span>VGRLLRRLLRRLLR<br/>RAGL<span style=\"color:red;\">F</span>FPVGRLLRRLLRRLLR<br/>RAGLQF<span style=\"color:red;\">F</span>VGRLLRRLLRRLLR<br/>RAGLQFP<span style=\"color:red;\">F</span>GRLLRRLLRRLLR<br/>RAGL<span style=\"color:red;\">P</span>FPVGRLLRRLLRRLLR<br/>RAGL<span style=\"color:red;\">T</span>FPVGRLLRRLLRRLLR<br/>RAGL<span style=\"color:red;\">W</span>FPVGRLLRRLLRRLLR<br/>RAGL<span style=\"color:red;\">V</span>FPVGRLLRRLLRRLLR<br/>RAGLQF<span style=\"color:red;\">V</span>VGRLLRRLLRRLLR<br/></tt>"
      ],
      "text/plain": [
       "<IPython.core.display.HTML object>"
      ]
     },
     "metadata": {},
     "output_type": "display_data"
    }
   ],
   "source": [
    "from IPython.core.display import display, HTML\n",
    "\n",
    "out = ['<tt>']\n",
    "for i, j in zip(ii[jnp.squeeze(x) < 0],\n",
    "                jj[jnp.squeeze(x) < 0]):    \n",
    "    out.append(f'{s[:i]}<span style=\"color:red;\">{ALPHABET[j]}</span>{s[i+1:]}<br/>')\n",
    "out.append('</tt>')\n",
    "display(HTML(''.join(out)))"
   ]
  },
  {
   "cell_type": "markdown",
   "metadata": {},
   "source": [
    "We have a few to choose from, but the interpretation is essentially exchange the glutamine with a hydrophobic group or replace the proline with V, F, A, or C to make the peptide non-hemolytic. Stated as a counterfactual: \"If the glutamine were exchanged with a hydrophobic amino acid, the peptide would not be hemolytic\"."
   ]
  },
  {
   "cell_type": "markdown",
   "metadata": {},
   "source": [
    "## GNN Explanations\n",
    "\n",
    "The same principles above apply to GNNs, but there are competing ideas about how best to translate these ideas to work on graphs. See {cite}`agarwal2021towards` for a discussion of theory of interpretability specifically for GNNs and {cite}`yuan2020explainability` for a survey of the methods available for constructing explanations in GNNs. "
   ]
  },
  {
   "cell_type": "markdown",
   "metadata": {},
   "source": [
    "## Summary\n",
    "\n",
    "* Interpretation of deep learning models is imperitive for ensuring model correctness, making predictions useful to humans, and can be required for legal compliance.\n",
    "* Interpretability of neural networks is part of a broader topic of explainability in AI (XAI), a topic that is in its infancy\n",
    "* An *explanation* is still ill-defined, but most often is expressed in terms of model features.\n",
    "* Strategies for explanations inlcude feature importance, training data importance, counterfactuals, and surrogate models that are locally accurate,\n",
    "* Most explanations are generated per-example (at inference).\n",
    "* The most systemtic but expensive to compute explanations are Shapley values.\n",
    "* Some argue that counterfactuals provide the most intuitive and satisfying explanations, but they may not be complete explanations. "
   ]
  },
  {
   "cell_type": "markdown",
   "metadata": {},
   "source": [
    "## Cited References\n",
    "\n",
    "```{bibliography}\n",
    ":style: unsrtalpha\n",
    ":filter: docname in docnames\n",
    "```"
   ]
  }
 ],
 "metadata": {
  "celltoolbar": "Tags",
  "kernelspec": {
   "display_name": "Python 3",
   "language": "python",
   "name": "python3"
  },
  "language_info": {
   "codemirror_mode": {
    "name": "ipython",
    "version": 3
   },
   "file_extension": ".py",
   "mimetype": "text/x-python",
   "name": "python",
   "nbconvert_exporter": "python",
   "pygments_lexer": "ipython3",
   "version": "3.7.8"
  }
 },
 "nbformat": 4,
 "nbformat_minor": 4
}
